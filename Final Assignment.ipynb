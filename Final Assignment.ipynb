# Final Assignment Applied Economics 1

## Kaj van der Peet – 566914
## Adrian Vargas – 550808

### Question

For the following game:

import plotly.plotly as py
from plotly.tools import FigureFactory as FF


