{
   "cells": [
    {
     "cell_type": "markdown",
     "metadata": {},
     "source": [
      "# Final Assignment Applied Economics 1\n",
      "\n",
      "Kaj van der Peet – 566914 and Adrian Vargas – 550808\n",
      "\n",
      "This notebook shows how a simple python model can be calibrated to analyze the effects of changing the deductible in a health insurance market. We calibrate the model on aggregate data for the Dutch basic health insurance market and the elasticity as it is found in the [RAND Health Insurance Experiment](http://www.rand.org/health/projects/hie.html).\n",
      "\n",
      "The python code and data used here can be found at [github](https://github.com/janboone/Deductible_Health_Insurance).\n",
      "\n"
     ]
    },

