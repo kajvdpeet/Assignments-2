# Final Assignment Applied Economics 1

## Kaj van der Peet – 566914
## Adrian Vargas – 550808

### Question

For the following game:


